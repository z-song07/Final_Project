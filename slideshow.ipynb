{
 "cells": [
  {
   "cell_type": "markdown",
   "id": "96746b21",
   "metadata": {
    "slideshow": {
     "slide_type": "slide"
    }
   },
   "source": [
    "# <center>Music Ranking with Spotify API and Billboard CSV Data</center>\n",
    "### <center>IS 362: Data Acquisition and Management</center>\n",
    "### <center>Instructor: Professor Larry Cohen</center>\n",
    "### <center>Student Name: Ziwei Song</center>\n"
   ]
  },
  {
   "cell_type": "markdown",
   "id": "68b9b531",
   "metadata": {
    "slideshow": {
     "slide_type": "slide"
    }
   },
   "source": [
    "# <center>Topic</center>\n",
    "\n",
    "I initially tried to analyze housing data using Zillow, but the data displayed on the Zillow csv did not meet my expectations and did not cover the information I wanted to explore. The API was also not free.\n",
    "The second topic I was interested in was the music charts. I am a music lover and I use Spotify to explore music from all over the world. I also often follow the Billboard 100 chart to see which songs are popular in the United States."
   ]
  },
  {
   "cell_type": "markdown",
   "id": "6437a014",
   "metadata": {
    "slideshow": {
     "slide_type": "slide"
    }
   },
   "source": [
    "# <center>Objective</center>\n",
    "The objectives of the project is to use various data to understand what music are popular in the U.S. market based one of the most credible chart \"Billboard Hot 100\".\n",
    "\n",
    "- How many songs on current Hot 100 chart are released on 2024, and how many are not? (During holidays, many old songs will be on chart).\n",
    "\n",
    "- Which three albums have the most songs on the current week of Hot 100 chart?\n",
    "\n",
    "- How many available markets do songs on current chart have?\n",
    "\n",
    "- Which 3 songs have the most weeks in the Hot 100 charts in the Billboard history?\n",
    "\n",
    "- Which 3 artists have the most songs on the Hot 100 charts in the Billboard history?\n"
   ]
  },
  {
   "cell_type": "markdown",
   "id": "1b30208e",
   "metadata": {
    "slideshow": {
     "slide_type": "slide"
    }
   },
   "source": [
    "# <center>Sources</center>\n",
    "- Data sources:\n",
    "    - Billboard official playlist from Spotify API\n",
    "    \n",
    "      The playlist is created and updated weekly by verified official Billboard account to display the top 100 trending songs in United States.\n",
    "      \n",
    "      https://developer.spotify.com/documentation/web-api/reference/get-playlists-tracks\n",
    "      \n",
    "    - Billboard CSV acquired by user \"ludmin\"\n",
    "    \n",
    "      The dataset contains all Billboard Hot 100 Charts from January, 2000 to December 4th, 2024.\n",
    "      \n",
    "      https://www.kaggle.com/datasets/ludmin/billboard"
   ]
  },
  {
   "cell_type": "markdown",
   "id": "1ce9cbc0",
   "metadata": {
    "slideshow": {
     "slide_type": "slide"
    }
   },
   "source": [
    "# <center>Results</center>\n",
    "- ## How many songs on current Hot 100 chart are released on 2024, and how many are not?\n",
    "\n",
    "    To get the list of songs that are released in 2024, I used the str.contains method to filter out songs whose dates do not include 2024. The result returned a list of 75 rows of songs for 2024, which means that there are 75 songs from 2024 and 25 songs that are not from 2024.\n",
    "    \n",
    "- ## Which three albums have the most songs on the current week of Hot 100 chart?\n",
    "\n",
    "    I first grouped the dataframe by album, then used the nunique method to count the number of unique values in the track names, then sorted the albums from most to least number of tracks, and then displayed the top 3. The top three albums with the most songs in the current billboard 100 are GNX (12 songs), Wicked: The Soundtrack (7 songs), and The Party Never Ends 2.0 (6 songs)."
   ]
  },
  {
   "cell_type": "markdown",
   "id": "6eff5772",
   "metadata": {
    "slideshow": {
     "slide_type": "slide"
    }
   },
   "source": [
    "# <center>Results Part 2</center>\n",
    "- ## How many available markets do songs on current chart have?\n",
    "    I used the value_counts method to count the number of songs for each number of \"available markets\". The result shows that most songs on the chart (46 songs) are available in 183 countries. I used the countplot of seaborn library to prove my calculation. However, I noticed that 3 songs had an available market of 0, which doesn't make sense because how can a song chart if there are no available markets to listen to it. The data in the Spotify API does not completely cover information about every song.\n",
    "\n",
    "- ## Which 3 songs have the most weeks in the Hot 100 charts in the Billboard history?\n",
    "    I first group the dataframe by songs, then find the unique times the song appeared on the \"Weeks in Charts column\" using the nunique method, then sort the dataframe from the most weeks in chart to the least weeks in chart.\n",
    "    The songs \"Heat Waves\", \"Blinding Lights\", and \"Radioactive\", with \"Heat Waves\" having a record of 90 weeks on Billboard Hot 100 chart.\n",
    "\n",
    "- ## Which 3 artists have the most songs on the Hot 100 charts in the Billboard history?\n",
    "    I first group the dataframe by artist, then find the unique songs for each artist using the nunique method, then sort the dataframe by artist with the most unique songs to the least unique songs.\n",
    "    Taylor Swift, Glee Cast, and Drake are the top three artists having the most songs on Billboard Hot 100 charts in the history."
   ]
  },
  {
   "cell_type": "markdown",
   "id": "f19b4a81",
   "metadata": {
    "slideshow": {
     "slide_type": "slide"
    }
   },
   "source": [
    "# <center>Challenge 1: Spotify API Data Access</center>\n",
    "\n",
    "The spotify API requires a client ID and client secret, which are unique identifiers for each user and are used to connect to the spotify developer API. These unique identifiers are used to create access tokens that grant users access to the spotify database. In the previous example using the New York Times API, I included the client ID and secret publicly in the notebook and uploaded it to Github, which is insecure and anyone can access the credentials to access the API. Some APIs are paid and contain confidential information, so in this project, I use a .env file to store my client ID and secret as environment variables and use the dotenv library to load the variables.\n",
    "    "
   ]
  },
  {
   "cell_type": "markdown",
   "id": "f9fbf9ce",
   "metadata": {
    "slideshow": {
     "slide_type": "slide"
    }
   },
   "source": [
    "# <center>Challenge 2: Nested Data in Spotify API</center>\n",
    "\n",
    "The datasets we previously worked with in class were mostly organized and non-nested, making them easy to read and convert to Pandas DataFrames. However, when using the Spotify API, since Spotify uses a relational database to store their music information, instead of explicitly including all the information about albums, artists, and tracks in a playlist, they use ids to reference albums, artists, and tracks, which when retrieved become multiple levels of nested dictionaries and lists. I had to use the json_normalize() method to flatten the json data. I also had to write a custom function and then apply it to the artist column of the dataframe to get only the artist names."
   ]
  },
  {
   "cell_type": "markdown",
   "id": "d6d7dcae",
   "metadata": {
    "slideshow": {
     "slide_type": "slide"
    }
   },
   "source": [
    "# <center>Future Exploration</center>\n",
    "\n",
    "Most of the challenges I faced were retrieving and cleaning the data. The music data in the Spotify API and the Billboard Hot 100 CSV does not contain too many numbers but is more of string information.The topic I want to further analyze the music data is comparing the number of streams for each song, and the sales of the album for each artist. However, the Spotify API removes the streaming data and instead uses a popularity index to rank the popularity of songs. In order to get more statistics about popularity, I will have to scrape data from the Billboard website in the future."
   ]
  }
 ],
 "metadata": {
  "celltoolbar": "Slideshow",
  "kernelspec": {
   "display_name": "Python 3 (ipykernel)",
   "language": "python",
   "name": "python3"
  },
  "language_info": {
   "codemirror_mode": {
    "name": "ipython",
    "version": 3
   },
   "file_extension": ".py",
   "mimetype": "text/x-python",
   "name": "python",
   "nbconvert_exporter": "python",
   "pygments_lexer": "ipython3",
   "version": "3.11.1"
  }
 },
 "nbformat": 4,
 "nbformat_minor": 5
}
